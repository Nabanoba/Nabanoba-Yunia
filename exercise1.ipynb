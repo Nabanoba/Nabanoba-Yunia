{
 "cells": [
  {
   "cell_type": "code",
   "execution_count": 1,
   "id": "06e81b6a-c609-47c1-a32b-ae2549753473",
   "metadata": {},
   "outputs": [
    {
     "name": "stdout",
     "output_type": "stream",
     "text": [
      "2nd item: Bob\n"
     ]
    }
   ],
   "source": [
    "# Exercise 1: Create a list with 5 items (names of people) and output the 2nd item\n",
    "people = [\"Alice\", \"Bob\", \"Charlie\", \"David\", \"Eve\"]\n",
    "print(\"2nd item:\", people[1])\n"
   ]
  },
  {
   "cell_type": "code",
   "execution_count": 2,
   "id": "f1da4072-3833-4af1-bf22-1a8445f34147",
   "metadata": {},
   "outputs": [
    {
     "name": "stdout",
     "output_type": "stream",
     "text": [
      "Updated list: ['Alex', 'Bob', 'Charlie', 'David', 'Eve']\n"
     ]
    }
   ],
   "source": [
    "# Exercise 2: Change the value of the first item to a new value\n",
    "people = [\"Alice\", \"Bob\", \"Charlie\", \"David\", \"Eve\"]\n",
    "people[0] = \"Alex\"\n",
    "print(\"Updated list:\", people)\n"
   ]
  },
  {
   "cell_type": "code",
   "execution_count": 3,
   "id": "34a92049-dfcf-4636-9d8c-afde0996b884",
   "metadata": {},
   "outputs": [
    {
     "name": "stdout",
     "output_type": "stream",
     "text": [
      "After adding 6th item: ['Alice', 'Bob', 'Charlie', 'David', 'Eve', 'Frank']\n"
     ]
    }
   ],
   "source": [
    "# Exercise 3: Add a sixth item to the list\n",
    "people = [\"Alice\", \"Bob\", \"Charlie\", \"David\", \"Eve\"]\n",
    "people.append(\"Frank\")\n",
    "print(\"After adding 6th item:\", people)\n"
   ]
  },
  {
   "cell_type": "code",
   "execution_count": 4,
   "id": "69a3350b-b408-4187-81fc-f51a1ea563c9",
   "metadata": {},
   "outputs": [
    {
     "name": "stdout",
     "output_type": "stream",
     "text": [
      "After inserting 'Faith' as 3rd item: ['Alice', 'Bob', 'Faith', 'Charlie', 'David', 'Eve']\n"
     ]
    }
   ],
   "source": [
    "# Exercise 4: Add \"Faith\" as the 3rd item\n",
    "people = [\"Alice\", \"Bob\", \"Charlie\", \"David\", \"Eve\"]\n",
    "people.insert(2, \"Faith\")\n",
    "print(\"After inserting 'Faith' as 3rd item:\", people)\n"
   ]
  },
  {
   "cell_type": "code",
   "execution_count": 5,
   "id": "24e60a74-1bb1-427d-beaf-349f44b4eaa0",
   "metadata": {},
   "outputs": [
    {
     "name": "stdout",
     "output_type": "stream",
     "text": [
      "After removing 4th item: ['Alice', 'Bob', 'Charlie', 'Eve']\n"
     ]
    }
   ],
   "source": [
    "# Exercise 5: Remove the 4th item from the list\n",
    "people = [\"Alice\", \"Bob\", \"Charlie\", \"David\", \"Eve\"]\n",
    "del people[3]\n",
    "print(\"After removing 4th item:\", people)\n"
   ]
  },
  {
   "cell_type": "code",
   "execution_count": 6,
   "id": "6c79ec4b-9635-4688-b4fb-00ee80ccb039",
   "metadata": {},
   "outputs": [
    {
     "name": "stdout",
     "output_type": "stream",
     "text": [
      "Last item: Eve\n"
     ]
    }
   ],
   "source": [
    "# Exercise 6: Use negative indexing to print the last item\n",
    "people = [\"Alice\", \"Bob\", \"Charlie\", \"David\", \"Eve\"]\n",
    "print(\"Last item:\", people[-1])\n"
   ]
  },
  {
   "cell_type": "code",
   "execution_count": 7,
   "id": "1bfd68b3-e9b6-4376-b754-617c25a321b6",
   "metadata": {},
   "outputs": [
    {
     "name": "stdout",
     "output_type": "stream",
     "text": [
      "3rd to 5th items: ['C', 'D', 'E']\n"
     ]
    }
   ],
   "source": [
    "# Exercise 7: Create a full list with 7 items and print 3rd, 4th, and 5th items\n",
    "items = [\"A\", \"B\", \"C\", \"D\", \"E\", \"F\", \"G\"]\n",
    "print(\"3rd to 5th items:\", items[2:5])\n"
   ]
  },
  {
   "cell_type": "code",
   "execution_count": 8,
   "id": "8a2b2721-5f1d-4324-a739-782d81ead661",
   "metadata": {},
   "outputs": [
    {
     "name": "stdout",
     "output_type": "stream",
     "text": [
      "Original list: ['Kenya', 'Uganda', 'Tanzania', 'Rwanda']\n",
      "Copied list: ['Kenya', 'Uganda', 'Tanzania', 'Rwanda']\n"
     ]
    }
   ],
   "source": [
    "# Exercise 8: List of countries and make a copy of it\n",
    "countries = [\"Kenya\", \"Uganda\", \"Tanzania\", \"Rwanda\"]\n",
    "countries_copy = countries.copy()\n",
    "print(\"Original list:\", countries)\n",
    "print(\"Copied list:\", countries_copy)\n"
   ]
  },
  {
   "cell_type": "code",
   "execution_count": 9,
   "id": "1007c7e4-5771-47da-9dea-37f4bb08683e",
   "metadata": {},
   "outputs": [
    {
     "name": "stdout",
     "output_type": "stream",
     "text": [
      "Looping through countries:\n",
      "- Kenya\n",
      "- Uganda\n",
      "- Tanzania\n",
      "- Rwanda\n"
     ]
    }
   ],
   "source": [
    "# Exercise 9: Loop through the list of countries\n",
    "countries = [\"Kenya\", \"Uganda\", \"Tanzania\", \"Rwanda\"]\n",
    "print(\"Looping through countries:\")\n",
    "for country in countries:\n",
    "    print(\"-\", country)\n"
   ]
  },
  {
   "cell_type": "code",
   "execution_count": 10,
   "id": "5dffebb9-2c14-4b4e-9297-e4bb7964607d",
   "metadata": {},
   "outputs": [
    {
     "name": "stdout",
     "output_type": "stream",
     "text": [
      "Animals ascending: ['elephant', 'giraffe', 'lion', 'monkey', 'zebra']\n",
      "Animals descending: ['zebra', 'monkey', 'lion', 'giraffe', 'elephant']\n"
     ]
    }
   ],
   "source": [
    "# Exercise 10: List of animal names and sort them\n",
    "animals = [\"zebra\", \"lion\", \"elephant\", \"giraffe\", \"monkey\"]\n",
    "ascending = sorted(animals)\n",
    "descending = sorted(animals, reverse=True)\n",
    "print(\"Animals ascending:\", ascending)\n",
    "print(\"Animals descending:\", descending)\n"
   ]
  },
  {
   "cell_type": "code",
   "execution_count": 11,
   "id": "b9365c36-4270-4ffd-86dc-e713a5408e29",
   "metadata": {},
   "outputs": [
    {
     "name": "stdout",
     "output_type": "stream",
     "text": [
      "Animals with 'a': ['zebra', 'elephant', 'giraffe']\n"
     ]
    }
   ],
   "source": [
    "# Exercise 11: Output only animals with the letter 'a'\n",
    "animals = [\"zebra\", \"lion\", \"elephant\", \"giraffe\", \"monkey\"]\n",
    "a_animals = [animal for animal in animals if 'a' in animal]\n",
    "print(\"Animals with 'a':\", a_animals)\n"
   ]
  },
  {
   "cell_type": "code",
   "execution_count": 12,
   "id": "8895e911-b8df-48ce-939b-90a9082efd91",
   "metadata": {},
   "outputs": [
    {
     "name": "stdout",
     "output_type": "stream",
     "text": [
      "Joined names: ['John', 'Jane', 'James', 'Doe', 'Smith', 'Brown']\n"
     ]
    }
   ],
   "source": [
    "# Exercise 12: Join two lists of first and second names\n",
    "first_names = [\"John\", \"Jane\", \"James\"]\n",
    "second_names = [\"Doe\", \"Smith\", \"Brown\"]\n",
    "joined_names = first_names + second_names\n",
    "print(\"Joined names:\", joined_names)\n"
   ]
  },
  {
   "cell_type": "code",
   "execution_count": null,
   "id": "0f89d3b2-ed86-40d6-9c04-023aaca80254",
   "metadata": {},
   "outputs": [],
   "source": []
  }
 ],
 "metadata": {
  "kernelspec": {
   "display_name": "Python [conda env:base] *",
   "language": "python",
   "name": "conda-base-py"
  },
  "language_info": {
   "codemirror_mode": {
    "name": "ipython",
    "version": 3
   },
   "file_extension": ".py",
   "mimetype": "text/x-python",
   "name": "python",
   "nbconvert_exporter": "python",
   "pygments_lexer": "ipython3",
   "version": "3.12.7"
  }
 },
 "nbformat": 4,
 "nbformat_minor": 5
}
