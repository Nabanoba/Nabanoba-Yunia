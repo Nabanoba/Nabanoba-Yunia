{
 "cells": [
  {
   "cell_type": "code",
   "execution_count": 3,
   "id": "34ced545",
   "metadata": {},
   "outputs": [
    {
     "name": "stdout",
     "output_type": "stream",
     "text": [
      "    Duration       Date  Pulse  Maxpulse  Calories\n",
      "0         60 2023-10-01  110.0     130.0     409.1\n",
      "1         60 2023-10-02  117.0     145.0     479.0\n",
      "2         60 2023-10-03  103.0     135.0     340.3\n",
      "3         45 2023-10-04  109.0     175.0     282.4\n",
      "4         45 2023-10-05  117.0     150.0     405.1\n",
      "5         60 2023-10-06  103.0     125.0     300.0\n",
      "6         60 2023-10-07  110.0     135.0     374.0\n",
      "7         60 2023-10-09  112.0     126.0     193.8\n",
      "8         30 2023-10-10  102.0     147.0     234.8\n",
      "9         60 2023-10-11  100.0     129.0     375.3\n",
      "10        60 2023-10-12  109.0     131.0     345.6\n",
      "11        60 2023-10-13  103.0     136.0     239.2\n",
      "12        60 2023-10-21  100.0     106.0     280.0\n"
     ]
    }
   ],
   "source": [
    "import pandas as pd\n",
    "\n",
    "df = pd.read_csv(\"mine.csv\")\n",
    "\n",
    "df['Date'] = df['Date'].astype(str).str.replace(\"'\", \"\", regex=False)\n",
    "df['Date'] = pd.to_datetime(df['Date'], errors='coerce')\n",
    "\n",
    "df = df.drop_duplicates()\n",
    "df = df.dropna()\n",
    "\n",
    "df = df[df['Pulse'] <= df['Maxpulse']]\n",
    "df = df[df['Duration'] <= 180]\n",
    "\n",
    "df = df.reset_index(drop=True)\n",
    "\n",
    "df.to_csv(\"cleaned_mine.csv\", index=False)\n",
    "\n",
    "print(df)\n"
   ]
  }
 ],
 "metadata": {
  "kernelspec": {
   "display_name": "base",
   "language": "python",
   "name": "python3"
  },
  "language_info": {
   "codemirror_mode": {
    "name": "ipython",
    "version": 3
   },
   "file_extension": ".py",
   "mimetype": "text/x-python",
   "name": "python",
   "nbconvert_exporter": "python",
   "pygments_lexer": "ipython3",
   "version": "3.12.7"
  }
 },
 "nbformat": 4,
 "nbformat_minor": 5
}
