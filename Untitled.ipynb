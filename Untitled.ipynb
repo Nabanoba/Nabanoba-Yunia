{
 "cells": [
  {
   "cell_type": "code",
   "execution_count": null,
   "id": "b0937ab0-9a56-4968-8c33-84972fb9aa0b",
   "metadata": {},
   "outputs": [],
   "source": []
  }
 ],
 "metadata": {
  "kernelspec": {
   "display_name": "",
   "name": ""
  },
  "language_info": {
   "name": ""
  }
 },
 "nbformat": 4,
 "nbformat_minor": 5
}
