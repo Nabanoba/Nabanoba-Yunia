{
 "cells": [
  {
   "cell_type": "code",
   "execution_count": 12,
   "id": "965e8834",
   "metadata": {},
   "outputs": [
    {
     "name": "stdout",
     "output_type": "stream",
     "text": [
      "Cleaning complete. Saved to 'cleaned_sales.csv'\n"
     ]
    },
    {
     "data": {
      "text/html": [
       "<div>\n",
       "<style scoped>\n",
       "    .dataframe tbody tr th:only-of-type {\n",
       "        vertical-align: middle;\n",
       "    }\n",
       "\n",
       "    .dataframe tbody tr th {\n",
       "        vertical-align: top;\n",
       "    }\n",
       "\n",
       "    .dataframe thead th {\n",
       "        text-align: right;\n",
       "    }\n",
       "</style>\n",
       "<table border=\"1\" class=\"dataframe\">\n",
       "  <thead>\n",
       "    <tr style=\"text-align: right;\">\n",
       "      <th></th>\n",
       "      <th>Order ID</th>\n",
       "      <th>Customer Name</th>\n",
       "      <th>Order Date</th>\n",
       "      <th>Product</th>\n",
       "      <th>Quantity</th>\n",
       "      <th>Unit Price</th>\n",
       "      <th>Total Revenue</th>\n",
       "    </tr>\n",
       "  </thead>\n",
       "  <tbody>\n",
       "    <tr>\n",
       "      <th>0</th>\n",
       "      <td>1001</td>\n",
       "      <td>John Doe</td>\n",
       "      <td>2024-01-01</td>\n",
       "      <td>Widget A</td>\n",
       "      <td>10.0</td>\n",
       "      <td>25.0</td>\n",
       "      <td>250.0</td>\n",
       "    </tr>\n",
       "    <tr>\n",
       "      <th>1</th>\n",
       "      <td>1002</td>\n",
       "      <td>Jane Smith</td>\n",
       "      <td>2024-01-02</td>\n",
       "      <td>Widget B</td>\n",
       "      <td>5.0</td>\n",
       "      <td>40.0</td>\n",
       "      <td>200.0</td>\n",
       "    </tr>\n",
       "    <tr>\n",
       "      <th>2</th>\n",
       "      <td>1006</td>\n",
       "      <td>John Doe</td>\n",
       "      <td>2024-06-01</td>\n",
       "      <td>Widget A</td>\n",
       "      <td>4.0</td>\n",
       "      <td>25.0</td>\n",
       "      <td>100.0</td>\n",
       "    </tr>\n",
       "  </tbody>\n",
       "</table>\n",
       "</div>"
      ],
      "text/plain": [
       "   Order ID Customer Name Order Date   Product  Quantity  Unit Price  \\\n",
       "0      1001      John Doe 2024-01-01  Widget A      10.0        25.0   \n",
       "1      1002    Jane Smith 2024-01-02  Widget B       5.0        40.0   \n",
       "2      1006      John Doe 2024-06-01  Widget A       4.0        25.0   \n",
       "\n",
       "   Total Revenue  \n",
       "0          250.0  \n",
       "1          200.0  \n",
       "2          100.0  "
      ]
     },
     "execution_count": 12,
     "metadata": {},
     "output_type": "execute_result"
    }
   ],
   "source": [
    "import pandas as pd\n",
    "\n",
    "def clean_orders_data(file_path):\n",
    "    df = pd.read_csv(file_path)\n",
    "    df.columns = df.columns.str.strip()\n",
    "    df['Order Date'] = pd.to_datetime(df['Order Date'], errors='coerce', dayfirst=False)\n",
    "    df = df.dropna(subset=['Order Date'])\n",
    "    df = df.drop_duplicates()\n",
    "    df = df.dropna(subset=['Customer Name', 'Quantity', 'Unit Price'])\n",
    "    df['Quantity'] = pd.to_numeric(df['Quantity'], errors='coerce')\n",
    "    df['Unit Price'] = pd.to_numeric(df['Unit Price'], errors='coerce')\n",
    "    df = df[(df['Quantity'] > 0) & (df['Unit Price'] > 0)]\n",
    "    def recalc_revenue(row):\n",
    "        calculated = row['Quantity'] * row['Unit Price']\n",
    "        if pd.isna(row['Total Revenue']) or abs(calculated - row['Total Revenue']) > 0.01:\n",
    "            return calculated\n",
    "        return row['Total Revenue']\n",
    "    df['Total Revenue'] = pd.to_numeric(df['Total Revenue'], errors='coerce')\n",
    "    df['Total Revenue'] = df.apply(recalc_revenue, axis=1)\n",
    "    df = df.sort_values('Order Date')\n",
    "    df = df.reset_index(drop=True)\n",
    "    return df\n",
    "\n",
    "cleaned_df = clean_orders_data('sales.csv')\n",
    "cleaned_df.to_csv('cleaned_sales.csv', index=False)\n",
    "\n",
    "print(\"Cleaning complete. Saved to 'cleaned_sales.csv'\")\n",
    "cleaned_df.head()\n",
    "\n"
   ]
  }
 ],
 "metadata": {
  "kernelspec": {
   "display_name": "base",
   "language": "python",
   "name": "python3"
  },
  "language_info": {
   "codemirror_mode": {
    "name": "ipython",
    "version": 3
   },
   "file_extension": ".py",
   "mimetype": "text/x-python",
   "name": "python",
   "nbconvert_exporter": "python",
   "pygments_lexer": "ipython3",
   "version": "3.12.7"
  }
 },
 "nbformat": 4,
 "nbformat_minor": 5
}
